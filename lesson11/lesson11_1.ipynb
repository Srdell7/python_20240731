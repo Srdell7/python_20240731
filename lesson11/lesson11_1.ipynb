{
 "cells": [
  {
   "cell_type": "code",
   "execution_count": 1,
   "metadata": {},
   "outputs": [
    {
     "name": "stdout",
     "output_type": "stream",
     "text": [
      "存檔完成\n"
     ]
    }
   ],
   "source": [
    "import requests \n",
    "from requests.exceptions import HTTPError,ConnectionError,Timeout\n",
    "\n",
    "try:\n",
    "    url = 'https://opendata.cwa.gov.tw/fileapi/v1/opendataapi/O-A0091-001?Authorization=rdec-key-123-45678-011121314&format=JSON'\n",
    "    response = requests.get(url)\n",
    "    content = response.text\n",
    "except HTTPError:\n",
    "    print(\"伺服器連線錯誤\")\n",
    "except ConnectionError:\n",
    "    print(\"連線時發生錯誤\")\n",
    "except Timeout:\n",
    "    print(\"伺服器忙碌中,請稍後再試\")\n",
    "except Exception:\n",
    "    print(\"未知的錯誤\")\n",
    "else:\n",
    "    with open('台灣日射量.json',encoding='utf-8',mode='w',newline='') as file: #此語法會自動結束\n",
    "        file.write(content)\n",
    "    print(\"存檔完成\")"
   ]
  },
  {
   "cell_type": "code",
   "execution_count": 3,
   "metadata": {},
   "outputs": [],
   "source": [
    "import io #跳過下載json再存一次檔後，再轉換成python資料架構\n",
    "import json\n",
    "from pprint import pprint\n",
    "file = io.StringIO(content)\n",
    "#pprint(json.load(file))\n",
    "\n",
    "contents = json.load(file)"
   ]
  },
  {
   "cell_type": "code",
   "execution_count": 8,
   "metadata": {},
   "outputs": [
    {
     "data": {
      "text/plain": [
       "'2024-09-02T19:49:20+08:00'"
      ]
     },
     "execution_count": 8,
     "metadata": {},
     "output_type": "execute_result"
    }
   ],
   "source": [
    "date:str = contents['cwaopendata']['sent']\n",
    "date"
   ]
  },
  {
   "cell_type": "code",
   "execution_count": null,
   "metadata": {},
   "outputs": [],
   "source": [
    "stations:list = contents['cwaopendata']['dataset']['Station']\n",
    "pprint(stations)"
   ]
  },
  {
   "cell_type": "code",
   "execution_count": 9,
   "metadata": {},
   "outputs": [
    {
     "name": "stdout",
     "output_type": "stream",
     "text": [
      "基隆 25.79\n",
      "\n",
      "\n",
      "淡水 25.79\n",
      "\n",
      "\n",
      "新北 25.77\n",
      "\n",
      "\n",
      "陽明山 25.47\n",
      "\n",
      "\n",
      "鞍部 26.41\n",
      "\n",
      "\n",
      "新竹 21.90\n",
      "\n",
      "\n",
      "臺中 18.84\n",
      "\n",
      "\n",
      "澎湖 25.31\n",
      "\n",
      "\n",
      "日月潭 16.05\n",
      "\n",
      "\n",
      "阿里山 11.72\n",
      "\n",
      "\n",
      "玉山 31.20\n",
      "\n",
      "\n",
      "嘉義 23.02\n",
      "\n",
      "\n",
      "臺南 22.38\n",
      "\n",
      "\n",
      "高雄 22.78\n",
      "\n",
      "\n",
      "恆春 22.31\n",
      "\n",
      "\n",
      "宜蘭 25.73\n",
      "\n",
      "\n",
      "花蓮 25.09\n",
      "\n",
      "\n",
      "成功 21.26\n",
      "\n",
      "\n",
      "臺東 25.79\n",
      "\n",
      "\n",
      "大武 24.80\n",
      "\n",
      "\n",
      "蘭嶼 18.02\n",
      "\n",
      "\n",
      "彭佳嶼 25.84\n",
      "\n",
      "\n",
      "東吉島 24.58\n",
      "\n",
      "\n",
      "南沙島 13.79\n",
      "\n",
      "\n",
      "東沙島 26.41\n",
      "\n",
      "\n",
      "永康 19.90\n",
      "\n",
      "\n",
      "臺北 25.10\n",
      "\n",
      "\n",
      "金門 22.46\n",
      "\n",
      "\n",
      "馬祖 24.45\n",
      "\n",
      "\n",
      "新屋 25.40\n",
      "\n",
      "\n",
      "田中 21.16\n",
      "\n",
      "\n",
      "後龍 23.48\n",
      "\n",
      "\n",
      "萬大發電廠 25.69\n",
      "\n",
      "\n"
     ]
    }
   ],
   "source": [
    "for station in stations:\n",
    "    name:str = station['StationName']\n",
    "    weather:str = station['WeatherElement']['SolarRadiation']\n",
    "    print(name,weather)\n",
    "    print(\"\\n\")"
   ]
  },
  {
   "cell_type": "code",
   "execution_count": null,
   "metadata": {},
   "outputs": [],
   "source": [
    "#上述仍是複雜\n",
    "#以下過濾資料"
   ]
  },
  {
   "cell_type": "code",
   "execution_count": 10,
   "metadata": {},
   "outputs": [
    {
     "data": {
      "text/plain": [
       "[<__main__.Station at 0x74721d749690>,\n",
       " <__main__.Station at 0x74721d71d010>,\n",
       " <__main__.Station at 0x74721d714e90>,\n",
       " <__main__.Station at 0x74721d732690>,\n",
       " <__main__.Station at 0x74721d733150>,\n",
       " <__main__.Station at 0x74721d77a350>,\n",
       " <__main__.Station at 0x74721d77b990>,\n",
       " <__main__.Station at 0x74721d77a450>,\n",
       " <__main__.Station at 0x74721d77b5d0>,\n",
       " <__main__.Station at 0x74721d77b210>,\n",
       " <__main__.Station at 0x74721d77bf90>,\n",
       " <__main__.Station at 0x74721d77b8d0>,\n",
       " <__main__.Station at 0x74721d77bcd0>,\n",
       " <__main__.Station at 0x74721d77b650>,\n",
       " <__main__.Station at 0x74721d77b110>,\n",
       " <__main__.Station at 0x74721d77b690>,\n",
       " <__main__.Station at 0x74721d778c50>,\n",
       " <__main__.Station at 0x74721d779f10>,\n",
       " <__main__.Station at 0x74721d77bc90>,\n",
       " <__main__.Station at 0x74721d77bf50>,\n",
       " <__main__.Station at 0x74721d77a250>,\n",
       " <__main__.Station at 0x74721d7617d0>,\n",
       " <__main__.Station at 0x74721d761c90>,\n",
       " <__main__.Station at 0x74721d761bd0>,\n",
       " <__main__.Station at 0x74721d762f90>,\n",
       " <__main__.Station at 0x74721d761ad0>,\n",
       " <__main__.Station at 0x74721d760c50>,\n",
       " <__main__.Station at 0x74721d763790>,\n",
       " <__main__.Station at 0x74721d760a90>,\n",
       " <__main__.Station at 0x74721d763690>,\n",
       " <__main__.Station at 0x74721d7613d0>,\n",
       " <__main__.Station at 0x74721d763510>,\n",
       " <__main__.Station at 0x74721d762110>]"
      ]
     },
     "execution_count": 10,
     "metadata": {},
     "output_type": "execute_result"
    }
   ],
   "source": [
    "class Station():\n",
    "    def __init__(self,name:str,weather:float):\n",
    "        self.name = name\n",
    "        self.weather = weather\n",
    "\n",
    "stations1:list = []\n",
    "for station in stations:\n",
    "    name:str = station['StationName']\n",
    "    weather:str = station['WeatherElement']['SolarRadiation']\n",
    "    station:Station = Station(name,float(weather))\n",
    "    stations1.append(station)\n",
    "\n",
    "stations1"
   ]
  }
 ],
 "metadata": {
  "kernelspec": {
   "display_name": "Python 3",
   "language": "python",
   "name": "python3"
  },
  "language_info": {
   "codemirror_mode": {
    "name": "ipython",
    "version": 3
   },
   "file_extension": ".py",
   "mimetype": "text/x-python",
   "name": "python",
   "nbconvert_exporter": "python",
   "pygments_lexer": "ipython3",
   "version": "3.11.9"
  }
 },
 "nbformat": 4,
 "nbformat_minor": 2
}
