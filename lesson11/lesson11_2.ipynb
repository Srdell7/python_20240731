{
 "cells": [
  {
   "cell_type": "code",
   "execution_count": null,
   "metadata": {},
   "outputs": [],
   "source": [
    "import requests \n",
    "from requests.exceptions import HTTPError,ConnectionError,Timeout\n",
    "\n",
    "try:\n",
    "    url = ''\n",
    "    response = requests.get(url)\n",
    "    content = response.text\n",
    "except HTTPError:\n",
    "    print(\"伺服器連線錯誤\")\n",
    "except ConnectionError:\n",
    "    print(\"連線時發生錯誤\")\n",
    "except Timeout:\n",
    "    print(\"伺服器忙碌中,請稍後再試\")\n",
    "except Exception:\n",
    "    print(\"未知的錯誤\")\n",
    "else:\n",
    "    with open('台灣日射量.json',encoding='utf-8',mode='w',newline='') as file: #此語法會自動結束\n",
    "        file.write(content)\n",
    "    print(\"存檔完成\")"
   ]
  }
 ],
 "metadata": {
  "language_info": {
   "name": "python"
  }
 },
 "nbformat": 4,
 "nbformat_minor": 2
}
