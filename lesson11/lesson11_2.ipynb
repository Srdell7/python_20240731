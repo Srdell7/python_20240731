{
 "cells": [
  {
   "cell_type": "code",
   "execution_count": 18,
   "metadata": {},
   "outputs": [
    {
     "name": "stdout",
     "output_type": "stream",
     "text": [
      "存檔完成\n"
     ]
    }
   ],
   "source": [
    "import requests \n",
    "from requests.exceptions import HTTPError,ConnectionError,Timeout\n",
    "\n",
    "try:\n",
    "    url = 'https://tcgbusfs.blob.core.windows.net/dotapp/youbike/v2/youbike_immediate.json'\n",
    "    response = requests.get(url)\n",
    "    content = response.text\n",
    "except HTTPError:\n",
    "    print(\"伺服器連線錯誤\")\n",
    "except ConnectionError:\n",
    "    print(\"連線時發生錯誤\")\n",
    "except Timeout:\n",
    "    print(\"伺服器忙碌中,請稍後再試\")\n",
    "except Exception:\n",
    "    print(\"未知的錯誤\")\n",
    "else:\n",
    "    with open('youbike.json',encoding='utf-8',mode='w',newline='') as file: #此語法會自動結束\n",
    "        file.write(content)\n",
    "    print(\"存檔完成\")"
   ]
  },
  {
   "cell_type": "code",
   "execution_count": 19,
   "metadata": {},
   "outputs": [
    {
     "data": {
      "text/plain": [
       "'\\n{\"sno\":\"500101001\",\"sna\":\"YouBike2.0_捷運科技大樓站\",\"sarea\":\"大安區\",\"mday\":\"2024-09-02 21:15:23\",\"ar\":\"復興南路二段235號前\",\"sareaen\":\"Daan Dist.\",\"snaen\":\"YouBike2.0_MRT Technology Bldg. Sta.\",\"aren\":\"No.235， Sec. 2， Fuxing S. Rd.\",\"act\":\"1\",\"srcUpdateTime\":\"2024-09-02 21:18:24\",\"updateTime\":\"2024-09-02 21:18:27\",\"infoTime\":\"2024-09-02 21:15:23\",\"infoDate\":\"2024-09-02\",\"total\":28,\"available_rent_bikes\":1,\"latitude\":25.02605,\"longitude\":121.5436,\"available_return_bikes\":27}\\n'"
      ]
     },
     "execution_count": 19,
     "metadata": {},
     "output_type": "execute_result"
    }
   ],
   "source": [
    "station_str = '''\n",
    "{\"sno\":\"500101001\",\"sna\":\"YouBike2.0_捷運科技大樓站\",\"sarea\":\"大安區\",\"mday\":\"2024-09-02 21:15:23\",\"ar\":\"復興南路二段235號前\",\"sareaen\":\"Daan Dist.\",\"snaen\":\"YouBike2.0_MRT Technology Bldg. Sta.\",\"aren\":\"No.235， Sec. 2， Fuxing S. Rd.\",\"act\":\"1\",\"srcUpdateTime\":\"2024-09-02 21:18:24\",\"updateTime\":\"2024-09-02 21:18:27\",\"infoTime\":\"2024-09-02 21:15:23\",\"infoDate\":\"2024-09-02\",\"total\":28,\"available_rent_bikes\":1,\"latitude\":25.02605,\"longitude\":121.5436,\"available_return_bikes\":27}\n",
    "'''\n",
    "station_str"
   ]
  },
  {
   "cell_type": "code",
   "execution_count": 21,
   "metadata": {},
   "outputs": [],
   "source": [
    "import json\n",
    "\n",
    "sta1 = json.loads(station_str)\n"
   ]
  },
  {
   "cell_type": "code",
   "execution_count": 24,
   "metadata": {},
   "outputs": [
    {
     "name": "stdout",
     "output_type": "stream",
     "text": [
      "500101001\n",
      "YouBike2.0_捷運科技大樓站\n"
     ]
    },
    {
     "data": {
      "text/plain": [
       "{'sno': '500101001',\n",
       " 'sna': 'YouBike2.0_捷運科技大樓站',\n",
       " 'sarea': '大安區',\n",
       " 'mday': '2024-09-02 21:15:23',\n",
       " 'ar': '復興南路二段235號前',\n",
       " 'total': 28,\n",
       " 'available_rent_bikes': 1}"
      ]
     },
     "execution_count": 24,
     "metadata": {},
     "output_type": "execute_result"
    }
   ],
   "source": [
    "from pydantic import BaseModel\n",
    "\n",
    "class Station(BaseModel):\n",
    "    sno:str\n",
    "    sna:str\n",
    "    sarea:str\n",
    "    mday:str\n",
    "    ar:str\n",
    "    total:int\n",
    "    available_rent_bikes:int\n",
    "#ˇ使用classMethod轉換實體\n",
    "sta1 = Station.model_validate_json(station_str)\n",
    "print(sta1.sno)\n",
    "print(sta1.sna)\n",
    "\n",
    "sta1.model_dump()#轉換成python架構"
   ]
  }
 ],
 "metadata": {
  "kernelspec": {
   "display_name": "Python 3",
   "language": "python",
   "name": "python3"
  },
  "language_info": {
   "codemirror_mode": {
    "name": "ipython",
    "version": 3
   },
   "file_extension": ".py",
   "mimetype": "text/x-python",
   "name": "python",
   "nbconvert_exporter": "python",
   "pygments_lexer": "ipython3",
   "version": "3.11.9"
  }
 },
 "nbformat": 4,
 "nbformat_minor": 2
}
