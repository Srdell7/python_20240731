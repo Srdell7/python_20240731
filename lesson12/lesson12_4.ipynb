{
 "cells": [
  {
   "cell_type": "code",
   "execution_count": 1,
   "metadata": {},
   "outputs": [
    {
     "name": "stdout",
     "output_type": "stream",
     "text": [
      "Y\n",
      "o\n",
      "u\n",
      "B\n",
      "i\n",
      "k\n",
      "e\n",
      "2\n",
      ".\n",
      "0\n",
      "_\n",
      "國\n",
      "北\n",
      "教\n",
      "大\n",
      "實\n",
      "小\n",
      "東\n",
      "側\n",
      "門\n"
     ]
    }
   ],
   "source": [
    "site_name = 'YouBike2.0_國北教大實小東側門'\n",
    "#str也是序列資料\n",
    "for character in site_name:\n",
    "    print(character)"
   ]
  },
  {
   "cell_type": "code",
   "execution_count": 2,
   "metadata": {},
   "outputs": [
    {
     "name": "stdout",
     "output_type": "stream",
     "text": [
      "Y\n",
      "門\n"
     ]
    }
   ],
   "source": [
    "#使用index\n",
    "print(site_name[0])\n",
    "print(site_name[-1])"
   ]
  },
  {
   "cell_type": "code",
   "execution_count": 7,
   "metadata": {},
   "outputs": [
    {
     "name": "stdout",
     "output_type": "stream",
     "text": [
      "YouBike\n",
      "YouBike\n",
      "國北教大實小東側\n",
      "國北教大實小東側門\n",
      "國北教大實小東側門\n"
     ]
    }
   ],
   "source": [
    "#使用slice\n",
    "print(site_name[0:7])\n",
    "print(site_name[:7])\n",
    "print(site_name[-9:-1])\n",
    "print(site_name[-9:])\n",
    "print(site_name[11:])"
   ]
  },
  {
   "cell_type": "code",
   "execution_count": null,
   "metadata": {},
   "outputs": [],
   "source": [
    "import requests\n",
    "from requests import Response\n",
    "youbike_url = 'https://tcgbusfs.blob.core.windows.net/dotapp/youbike/v2/youbike_immediate.json'\n",
    "try:\n",
    "    res:Response = requests.request('GET',youbike_url)\n",
    "    res.raise_for_status()\n",
    "except Exception:\n",
    "    print('error')\n",
    "else:\n",
    "    content = res.text\n",
    "\n",
    "from pydantic import BaseModel,RootModel,Field,field_validator #自訂驗證\n",
    "from datetime import datetime #python內建函式\n",
    "from pprint import pprint\n",
    "\n",
    "class Station(BaseModel):\n",
    "    編碼:str = Field(alias='sno')\n",
    "    站名:str = Field(alias='sna')\n",
    "    行政區:str = Field(alias='sarea')\n",
    "    時間:datetime = Field(alias='mday') #轉換型別\n",
    "    地點:str = Field(alias='ar')\n",
    "    狀態:bool = Field(alias='act')\n",
    "    總數:int = Field(alias='total')\n",
    "    可借數:int = Field(alias='available_rent_bikes')\n",
    "\n",
    "    @field_validator('站名') #自訂驗證\n",
    "    @classmethod\n",
    "    def slice_str(cls,name:str):\n",
    "        return name[11:]\n",
    "    \n",
    "    @field_validator('狀態')\n",
    "    @classmethod\n",
    "    def status_str(cls,status:bool):\n",
    "        if status:\n",
    "            return \"營運中\"\n",
    "        else:\n",
    "            return \"維護中\"\n",
    "\n",
    "class Ubike(RootModel):\n",
    "    root:list[Station]\n",
    "\n",
    "ubikes:Ubike = Ubike.model_validate_json(content)\n",
    "ubikes_list = ubikes.model_dump()\n",
    "pprint(ubikes_list)\n",
    "\n",
    "for item in ubikes_list:\n",
    "    pprint(item,indent=3) #indent為前方空格數"
   ]
  },
  {
   "cell_type": "code",
   "execution_count": null,
   "metadata": {},
   "outputs": [],
   "source": [
    "import requests\n",
    "from requests import Response\n",
    "youbike_url = 'https://tcgbusfs.blob.core.windows.net/dotapp/youbike/v2/youbike_immediate.json'\n",
    "try:\n",
    "    res:Response = requests.request('GET',youbike_url)\n",
    "    res.raise_for_status()\n",
    "except Exception:\n",
    "    print('error')\n",
    "else:\n",
    "    content = res.text\n",
    "\n",
    "from pydantic import BaseModel,RootModel,Field,field_validator\n",
    "from datetime import datetime\n",
    "from pprint import pprint\n",
    "\n",
    "class Station(BaseModel):\n",
    "    編碼:str = Field(alias='sno')\n",
    "    站名:str = Field(alias='sna')\n",
    "    行政區:str = Field(alias='sarea')\n",
    "    時間:datetime = Field(alias='mday')\n",
    "    地點:str = Field(alias='ar')\n",
    "    狀態:str = Field(alias='act') ###改為字串\n",
    "    總數:int = Field(alias='total')\n",
    "    可借數:int = Field(alias='available_rent_bikes')\n",
    "\n",
    "    @field_validator('站名')\n",
    "    @classmethod\n",
    "    def slice_str(cls,name:str)->str:\n",
    "        return name[11:]\n",
    "    \n",
    "    @field_validator('狀態',mode='before')  ###\n",
    "    @classmethod\n",
    "    def status_str(cls,status:str)->str:   ###\n",
    "        if status == '1' :  ###\n",
    "            return \"營運中\"\n",
    "        else:\n",
    "            return \"維護中\"\n",
    "\n",
    "class Ubike(RootModel):\n",
    "    root:list[Station]\n",
    "\n",
    "ubikes:Ubike = Ubike.model_validate_json(content)\n",
    "ubikes_list = ubikes.model_dump()\n",
    "pprint(ubikes_list)\n",
    "\n",
    "for item in ubikes_list:\n",
    "    pprint(item,indent=3)"
   ]
  }
 ],
 "metadata": {
  "kernelspec": {
   "display_name": "Python 3",
   "language": "python",
   "name": "python3"
  },
  "language_info": {
   "codemirror_mode": {
    "name": "ipython",
    "version": 3
   },
   "file_extension": ".py",
   "mimetype": "text/x-python",
   "name": "python",
   "nbconvert_exporter": "python",
   "pygments_lexer": "ipython3",
   "version": "3.11.9"
  }
 },
 "nbformat": 4,
 "nbformat_minor": 2
}
