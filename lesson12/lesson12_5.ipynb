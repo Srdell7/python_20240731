{
 "cells": [
  {
   "cell_type": "code",
   "execution_count": 2,
   "metadata": {},
   "outputs": [
    {
     "name": "stdout",
     "output_type": "stream",
     "text": [
      "2024\n",
      "9\n",
      "4\n",
      "13\n",
      "35\n",
      "9\n"
     ]
    }
   ],
   "source": [
    "from datetime import datetime\n",
    "current:datetime = datetime.now()\n",
    "print(current.year)\n",
    "print(current.month)\n",
    "print(current.day)\n",
    "print(current.hour)\n",
    "print(current.minute)\n",
    "print(current.second)"
   ]
  },
  {
   "cell_type": "code",
   "execution_count": 3,
   "metadata": {},
   "outputs": [
    {
     "data": {
      "text/plain": [
       "'04/09/2024, 13:35:09'"
      ]
     },
     "execution_count": 3,
     "metadata": {},
     "output_type": "execute_result"
    }
   ],
   "source": [
    "current.strftime('%d/%m/%Y, %H:%M:%S')"
   ]
  },
  {
   "cell_type": "code",
   "execution_count": 4,
   "metadata": {},
   "outputs": [
    {
     "data": {
      "text/plain": [
       "'中華民國113年09月04日 13:35:09'"
      ]
     },
     "execution_count": 4,
     "metadata": {},
     "output_type": "execute_result"
    }
   ],
   "source": [
    "current.strftime(f'中華民國{current.year-1911}年%m月%d日 %H:%M:%S')"
   ]
  },
  {
   "cell_type": "code",
   "execution_count": null,
   "metadata": {},
   "outputs": [],
   "source": [
    "import requests\n",
    "from requests import Response\n",
    "youbike_url = 'https://tcgbusfs.blob.core.windows.net/dotapp/youbike/v2/youbike_immediate.json'\n",
    "try:\n",
    "    res:Response = requests.request('GET',youbike_url)\n",
    "    res.raise_for_status()\n",
    "except Exception:\n",
    "    print('error')\n",
    "else:\n",
    "    content = res.text\n",
    "\n",
    "from pydantic import BaseModel,RootModel,Field,field_validator,field_serializer###\n",
    "from datetime import datetime\n",
    "from pprint import pprint\n",
    "\n",
    "class Station(BaseModel):\n",
    "    編碼:str = Field(alias='sno')\n",
    "    站名:str = Field(alias='sna')\n",
    "    行政區:str = Field(alias='sarea')\n",
    "    時間:datetime = Field(alias='mday')\n",
    "    地點:str = Field(alias='ar')\n",
    "    狀態:str = Field(alias='act')\n",
    "    總數:int = Field(alias='total')\n",
    "    可借數:int = Field(alias='available_rent_bikes')\n",
    "\n",
    "    @field_validator('站名')\n",
    "    @classmethod\n",
    "    def slice_str(cls,name:str)->str:\n",
    "        return name[11:]\n",
    "    \n",
    "    @field_validator('狀態',mode='before')\n",
    "    @classmethod\n",
    "    def status_str(cls,status:str)->str:\n",
    "        if status == '1' :\n",
    "            return \"營運中\"\n",
    "        else:\n",
    "            return \"維護中\"\n",
    "        \n",
    "    @field_serializer('時間')   ###\n",
    "    def time(self,date:datetime)->str:\n",
    "        return date.strftime(f'中華民國{date.year-1911}年%m月%d日 %H:%M:%S')\n",
    "\n",
    "class Ubike(RootModel):\n",
    "    root:list[Station]\n",
    "\n",
    "ubikes:Ubike = Ubike.model_validate_json(content)\n",
    "ubikes_list = ubikes.model_dump()\n",
    "pprint(ubikes_list)\n",
    "\n",
    "for item in ubikes_list:\n",
    "    pprint(item,indent=3)"
   ]
  }
 ],
 "metadata": {
  "kernelspec": {
   "display_name": "Python 3",
   "language": "python",
   "name": "python3"
  },
  "language_info": {
   "codemirror_mode": {
    "name": "ipython",
    "version": 3
   },
   "file_extension": ".py",
   "mimetype": "text/x-python",
   "name": "python",
   "nbconvert_exporter": "python",
   "pygments_lexer": "ipython3",
   "version": "3.11.9"
  }
 },
 "nbformat": 4,
 "nbformat_minor": 2
}
