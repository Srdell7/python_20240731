{
 "cells": [
  {
   "cell_type": "code",
   "execution_count": 1,
   "metadata": {},
   "outputs": [
    {
     "data": {
      "text/plain": [
       "array([ 3,  7, 11, 15, 19])"
      ]
     },
     "execution_count": 1,
     "metadata": {},
     "output_type": "execute_result"
    }
   ],
   "source": [
    "import numpy as np #陣列運算\n",
    "array_a = np.array([1,3,5,7,9])\n",
    "array_b = np.array([2,4,6,8,10])\n",
    "\n",
    "array_a + array_b"
   ]
  },
  {
   "cell_type": "code",
   "execution_count": 2,
   "metadata": {},
   "outputs": [
    {
     "data": {
      "text/plain": [
       "(2, (2, 3), 6, dtype('int64'))"
      ]
     },
     "execution_count": 2,
     "metadata": {},
     "output_type": "execute_result"
    }
   ],
   "source": [
    "import numpy as np\n",
    "\n",
    "l = [[1,2,3],[2,3,4]]\n",
    "array = np.array(l)\n",
    "array.ndim, array.shape, array.size, array.dtype"
   ]
  },
  {
   "cell_type": "code",
   "execution_count": 3,
   "metadata": {},
   "outputs": [
    {
     "data": {
      "text/plain": [
       "array([[ 1.18885007, -0.80769952,  1.13551258,  1.37719522,  1.03127656],\n",
       "       [ 2.18672768, -0.5798589 ,  0.42235118,  1.05752578,  0.38970642],\n",
       "       [-0.74755517, -0.40162778, -0.71129914,  0.19680933,  0.46897638],\n",
       "       [ 1.7365521 , -0.91667466, -1.94702288,  0.16008622, -0.61292038],\n",
       "       [ 0.51960768, -0.72347135,  0.59660558, -1.46321368, -0.49336782],\n",
       "       [ 0.84987782,  1.06567489,  0.72132198,  0.74942255, -0.57358101],\n",
       "       [ 0.95153545, -2.28636189, -1.15996748, -0.63330672, -0.60627749],\n",
       "       [ 0.66147691, -0.01359882, -0.41762298,  0.09002783, -0.27263646],\n",
       "       [-2.19304157,  0.95405908, -2.08124356,  1.54085156, -0.21639702],\n",
       "       [-1.24663587,  1.34946249, -1.219974  ,  1.31926328,  1.25290461]])"
      ]
     },
     "execution_count": 3,
     "metadata": {},
     "output_type": "execute_result"
    }
   ],
   "source": [
    "import numpy as np\n",
    "np.random.randn(10,5)"
   ]
  },
  {
   "cell_type": "code",
   "execution_count": 11,
   "metadata": {},
   "outputs": [
    {
     "data": {
      "text/plain": [
       "array([[ 87,  71,  94,  70,  95,  95,  64],\n",
       "       [ 99, 100,  63,  80,  74,  73,  82],\n",
       "       [100,  97,  93,  81,  98,  81,  99],\n",
       "       [ 67,  97,  60,  70,  90,  71,  63],\n",
       "       [ 83,  92,  63,  65,  86,  92,  75],\n",
       "       [ 92, 100,  65,  92,  98,  89,  88],\n",
       "       [ 85,  77,  80,  77,  65,  65,  63],\n",
       "       [ 70,  66,  96,  95,  77,  75,  91],\n",
       "       [ 64,  80,  78,  78,  73,  61,  62],\n",
       "       [ 67,  72,  98,  68,  79,  78,  66]])"
      ]
     },
     "execution_count": 11,
     "metadata": {},
     "output_type": "execute_result"
    }
   ],
   "source": [
    "#50個學生,每個學生有5個分數(50-100)\n",
    "scores = np.random.randint(60,101,size=(10,7)) #此tuple數值含前面不含後面,所以分數介於60~100之間\n",
    "scores"
   ]
  },
  {
   "cell_type": "code",
   "execution_count": 12,
   "metadata": {},
   "outputs": [
    {
     "data": {
      "text/plain": [
       "array([[ 92, 100,  65,  92,  98,  89,  88],\n",
       "       [ 85,  77,  80,  77,  65,  65,  63],\n",
       "       [ 70,  66,  96,  95,  77,  75,  91],\n",
       "       [ 64,  80,  78,  78,  73,  61,  62],\n",
       "       [ 67,  72,  98,  68,  79,  78,  66]])"
      ]
     },
     "execution_count": 12,
     "metadata": {},
     "output_type": "execute_result"
    }
   ],
   "source": [
    "#第一個學生\n",
    "scores[0,:]\n",
    "#前五個學生\n",
    "scores[:5,:]\n",
    "#後五個學生\n",
    "scores[-5::]"
   ]
  },
  {
   "cell_type": "code",
   "execution_count": 13,
   "metadata": {},
   "outputs": [
    {
     "data": {
      "text/plain": [
       "array([ 87,  99, 100,  67,  83,  92,  85,  70,  64,  67])"
      ]
     },
     "execution_count": 13,
     "metadata": {},
     "output_type": "execute_result"
    }
   ],
   "source": [
    "#全班第一科的分數\n",
    "scores[:,0]\n",
    "#以此類推"
   ]
  },
  {
   "cell_type": "code",
   "execution_count": 18,
   "metadata": {},
   "outputs": [
    {
     "data": {
      "text/plain": [
       "array([158, 199, 197, 164, 175, 192, 162, 136, 144, 139])"
      ]
     },
     "execution_count": 18,
     "metadata": {},
     "output_type": "execute_result"
    }
   ],
   "source": [
    "#每位學生第一科與第二科的總分\n",
    "total = scores[:,0] + scores[:,1]\n",
    "total"
   ]
  },
  {
   "cell_type": "code",
   "execution_count": 19,
   "metadata": {},
   "outputs": [
    {
     "data": {
      "text/plain": [
       "array([576, 571, 649, 518, 556, 624, 512, 570, 496, 528])"
      ]
     },
     "execution_count": 19,
     "metadata": {},
     "output_type": "execute_result"
    }
   ],
   "source": [
    "#使用統計的方法\n",
    "#每個學生總分\n",
    "np.sum(scores,axis = 1)"
   ]
  },
  {
   "cell_type": "code",
   "execution_count": 20,
   "metadata": {},
   "outputs": [
    {
     "data": {
      "text/plain": [
       "array([82.28571429, 81.57142857, 92.71428571, 74.        , 79.42857143,\n",
       "       89.14285714, 73.14285714, 81.42857143, 70.85714286, 75.42857143])"
      ]
     },
     "execution_count": 20,
     "metadata": {},
     "output_type": "execute_result"
    }
   ],
   "source": [
    "#每個學生平均\n",
    "np.mean(scores,axis = 1)"
   ]
  },
  {
   "cell_type": "code",
   "execution_count": 21,
   "metadata": {},
   "outputs": [
    {
     "data": {
      "text/plain": [
       "array([12.50958816, 12.65878738,  7.68513009, 12.9614814 , 11.14651954,\n",
       "       10.66942991,  8.04325043, 11.44997995,  7.67981717, 10.39034088])"
      ]
     },
     "execution_count": 21,
     "metadata": {},
     "output_type": "execute_result"
    }
   ],
   "source": [
    "#每個學生的標準差\n",
    "np.std(scores,axis = 1)"
   ]
  }
 ],
 "metadata": {
  "kernelspec": {
   "display_name": "Python 3",
   "language": "python",
   "name": "python3"
  },
  "language_info": {
   "codemirror_mode": {
    "name": "ipython",
    "version": 3
   },
   "file_extension": ".py",
   "mimetype": "text/x-python",
   "name": "python",
   "nbconvert_exporter": "python",
   "pygments_lexer": "ipython3",
   "version": "3.11.9"
  }
 },
 "nbformat": 4,
 "nbformat_minor": 2
}
