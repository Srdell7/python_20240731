{
 "cells": [
  {
   "cell_type": "code",
   "execution_count": null,
   "metadata": {},
   "outputs": [],
   "source": [
    "import pandas as pd\n",
    "file_path = '每日各站進出站人數/每日各站進出站人數2020.csv'\n",
    "df1 = pd.read_csv(file_path)\n",
    "df1"
   ]
  },
  {
   "cell_type": "code",
   "execution_count": null,
   "metadata": {},
   "outputs": [],
   "source": [
    "df2 = df1.rename(columns = {'trnOpDate':'乘車日',\n",
    "                            'staCode':'車站代碼',\n",
    "                            'gateInComingCnt':'進站人數',\n",
    "                            'gateOutGoingCnt':'出站人數'})\n",
    "df2"
   ]
  },
  {
   "cell_type": "code",
   "execution_count": null,
   "metadata": {},
   "outputs": [],
   "source": [
    "import json\n",
    "from pprint import pprint\n",
    "\n",
    "with open('車站基本資料集.json',encoding='utf-8') as file:\n",
    "   json_data = json.load(file)\n",
    "\n",
    "stations_info = pd.DataFrame(json_data,columns=['stationCode','stationName'])\n",
    "stations_info['stationCode'] = stations_info['stationCode'].map(lambda value:int(value))#使用map\n",
    "stations_info"
   ]
  },
  {
   "cell_type": "code",
   "execution_count": null,
   "metadata": {},
   "outputs": [],
   "source": [
    "import json\n",
    "from pprint import pprint\n",
    "\n",
    "with open('車站基本資料集.json',encoding='utf-8') as file:\n",
    "   json_data = json.load(file)\n",
    "\n",
    "stations_info = pd.DataFrame(json_data,columns=['stationCode','stationName'])\n",
    "stations_info = stations_info.astype({'stationCode':'int32'})#使用astype\n",
    "stations_info"
   ]
  },
  {
   "cell_type": "code",
   "execution_count": null,
   "metadata": {},
   "outputs": [],
   "source": [
    "#使用pd.merge()\n",
    "df1 = pd.merge(df2,stations_info,left_on='車站代碼',right_on='stationCode')\n",
    "df1"
   ]
  },
  {
   "cell_type": "code",
   "execution_count": null,
   "metadata": {},
   "outputs": [],
   "source": [
    "df2 = df1.rename(columns={'stationName':'車站名稱'})\n",
    "#df2.drop(columns=['車站代碼','stationCode'])\n",
    "df2"
   ]
  },
  {
   "cell_type": "code",
   "execution_count": null,
   "metadata": {},
   "outputs": [],
   "source": [
    "df3=df2.reindex(columns=['乘車日','車站名稱','進站人數','出站人數'])\n",
    "df3.info()"
   ]
  },
  {
   "cell_type": "code",
   "execution_count": null,
   "metadata": {},
   "outputs": [],
   "source": [
    "#轉換日期資料類型\n",
    "df3['乘車日'] = pd.to_datetime(df3['乘車日'].astype(str))\n",
    "df3.info()"
   ]
  },
  {
   "cell_type": "code",
   "execution_count": null,
   "metadata": {},
   "outputs": [],
   "source": [
    "import os\n",
    "os.listdir('每日各站進出站人數')"
   ]
  }
 ],
 "metadata": {
  "kernelspec": {
   "display_name": "Python 3",
   "language": "python",
   "name": "python3"
  },
  "language_info": {
   "codemirror_mode": {
    "name": "ipython",
    "version": 3
   },
   "file_extension": ".py",
   "mimetype": "text/x-python",
   "name": "python",
   "nbconvert_exporter": "python",
   "pygments_lexer": "ipython3",
   "version": "3.10.15"
  }
 },
 "nbformat": 4,
 "nbformat_minor": 2
}
