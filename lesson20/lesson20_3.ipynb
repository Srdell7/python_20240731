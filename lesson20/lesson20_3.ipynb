{
 "cells": [
  {
   "cell_type": "code",
   "execution_count": 1,
   "metadata": {},
   "outputs": [],
   "source": [
    "import os\n",
    "import pandas as pd\n",
    "import json\n",
    "\n",
    "\n",
    "def parse_data(filename):\n",
    "    df1 = pd.read_csv(filename)\n",
    "    df2 = df1.rename(columns={\"trnOpDate\": \"乘車日\",\n",
    "                              \"staCode\": \"車站代碼\",\n",
    "                              \"gateInComingCnt\": \"進站人數\",\n",
    "                              \"gateOutGoingCnt\": \"出站人數\"})\n",
    "    with open('車站基本資料集.json', encoding='utf-8') as file:\n",
    "        json_data = json.load(file)\n",
    "        stations_info = pd.DataFrame(\n",
    "            json_data, columns=['stationCode', 'stationName'])\n",
    "        stations_info = stations_info.astype({'stationCode': 'int32'})\n",
    "    df3 = pd.merge(df2, stations_info, left_on='車站代碼', right_on='stationCode')\n",
    "    df4 = df3.rename(columns={'stationName': '車站名稱'})\n",
    "    df5 = df4.reindex(columns=['乘車日', '車站名稱', '進站人數', '出站人數'])\n",
    "    df5['乘車日'] = pd.to_datetime(df5['乘車日'].astype(str))\n",
    "    return df5\n",
    "\n",
    "\n",
    "def main():\n",
    "    current_dir = os.getcwd()\n",
    "    csv_dir = os.path.join(current_dir, '每日各站進出站人數')\n",
    "    files_and_dirs = os.listdir(csv_dir)\n",
    "    all_csv_files = [\n",
    "        filename for filename in files_and_dirs if '每日各站進出站人數' in filename]\n",
    "    sorted_csv_files = sorted(all_csv_files)\n",
    "    all_final_dfs = []\n",
    "    for filename in sorted_csv_files:\n",
    "        abs_filename = os.path.join(csv_dir, filename)\n",
    "        all_final_dfs.append(parse_data(abs_filename))\n",
    "    df_done = pd.concat(all_final_dfs)\n",
    "    df_done1 = df_done.set_index('乘車日')\n",
    "    return df_done1\n",
    "\n",
    "\n",
    "if __name__ == '__main__': \n",
    "    df_done1 = main()\n",
    "    "
   ]
  },
  {
   "cell_type": "code",
   "execution_count": 2,
   "metadata": {},
   "outputs": [
    {
     "name": "stdout",
     "output_type": "stream",
     "text": [
      "<class 'pandas.core.frame.DataFrame'>\n",
      "DatetimeIndex: 406761 entries, 2019-04-23 to 2023-12-31\n",
      "Data columns (total 3 columns):\n",
      " #   Column  Non-Null Count   Dtype \n",
      "---  ------  --------------   ----- \n",
      " 0   車站名稱    406761 non-null  object\n",
      " 1   進站人數    406761 non-null  int64 \n",
      " 2   出站人數    406761 non-null  int64 \n",
      "dtypes: int64(2), object(1)\n",
      "memory usage: 12.4+ MB\n"
     ]
    }
   ],
   "source": [
    "df_done1.info()"
   ]
  },
  {
   "cell_type": "code",
   "execution_count": 3,
   "metadata": {},
   "outputs": [
    {
     "data": {
      "text/plain": [
       "241"
      ]
     },
     "execution_count": 3,
     "metadata": {},
     "output_type": "execute_result"
    }
   ],
   "source": [
    "gb1 = df_done1.groupby(by = '車站名稱')\n",
    "len(gb1)"
   ]
  },
  {
   "cell_type": "code",
   "execution_count": 4,
   "metadata": {},
   "outputs": [
    {
     "data": {
      "text/html": [
       "<div>\n",
       "<style scoped>\n",
       "    .dataframe tbody tr th:only-of-type {\n",
       "        vertical-align: middle;\n",
       "    }\n",
       "\n",
       "    .dataframe tbody tr th {\n",
       "        vertical-align: top;\n",
       "    }\n",
       "\n",
       "    .dataframe thead th {\n",
       "        text-align: right;\n",
       "    }\n",
       "</style>\n",
       "<table border=\"1\" class=\"dataframe\">\n",
       "  <thead>\n",
       "    <tr style=\"text-align: right;\">\n",
       "      <th></th>\n",
       "      <th>進站人數</th>\n",
       "      <th>出站人數</th>\n",
       "    </tr>\n",
       "    <tr>\n",
       "      <th>車站名稱</th>\n",
       "      <th></th>\n",
       "      <th></th>\n",
       "    </tr>\n",
       "  </thead>\n",
       "  <tbody>\n",
       "    <tr>\n",
       "      <th>七堵</th>\n",
       "      <td>9044563</td>\n",
       "      <td>9115329</td>\n",
       "    </tr>\n",
       "    <tr>\n",
       "      <th>三坑</th>\n",
       "      <td>2080517</td>\n",
       "      <td>2140894</td>\n",
       "    </tr>\n",
       "    <tr>\n",
       "      <th>三塊厝</th>\n",
       "      <td>786111</td>\n",
       "      <td>824381</td>\n",
       "    </tr>\n",
       "    <tr>\n",
       "      <th>三姓橋</th>\n",
       "      <td>1760760</td>\n",
       "      <td>1594509</td>\n",
       "    </tr>\n",
       "    <tr>\n",
       "      <th>三民</th>\n",
       "      <td>12535</td>\n",
       "      <td>18652</td>\n",
       "    </tr>\n",
       "    <tr>\n",
       "      <th>...</th>\n",
       "      <td>...</td>\n",
       "      <td>...</td>\n",
       "    </tr>\n",
       "    <tr>\n",
       "      <th>鼓山</th>\n",
       "      <td>469414</td>\n",
       "      <td>476151</td>\n",
       "    </tr>\n",
       "    <tr>\n",
       "      <th>龍井</th>\n",
       "      <td>596686</td>\n",
       "      <td>589722</td>\n",
       "    </tr>\n",
       "    <tr>\n",
       "      <th>龍泉</th>\n",
       "      <td>24965</td>\n",
       "      <td>30795</td>\n",
       "    </tr>\n",
       "    <tr>\n",
       "      <th>龍港</th>\n",
       "      <td>30146</td>\n",
       "      <td>38335</td>\n",
       "    </tr>\n",
       "    <tr>\n",
       "      <th>龜山</th>\n",
       "      <td>141198</td>\n",
       "      <td>134504</td>\n",
       "    </tr>\n",
       "  </tbody>\n",
       "</table>\n",
       "<p>241 rows × 2 columns</p>\n",
       "</div>"
      ],
      "text/plain": [
       "         進站人數     出站人數\n",
       "車站名稱                  \n",
       "七堵    9044563  9115329\n",
       "三坑    2080517  2140894\n",
       "三塊厝    786111   824381\n",
       "三姓橋   1760760  1594509\n",
       "三民      12535    18652\n",
       "...       ...      ...\n",
       "鼓山     469414   476151\n",
       "龍井     596686   589722\n",
       "龍泉      24965    30795\n",
       "龍港      30146    38335\n",
       "龜山     141198   134504\n",
       "\n",
       "[241 rows x 2 columns]"
      ]
     },
     "execution_count": 4,
     "metadata": {},
     "output_type": "execute_result"
    }
   ],
   "source": [
    "Sum = gb1.sum()\n",
    "Sum"
   ]
  },
  {
   "cell_type": "code",
   "execution_count": 8,
   "metadata": {},
   "outputs": [
    {
     "data": {
      "text/html": [
       "<div>\n",
       "<style scoped>\n",
       "    .dataframe tbody tr th:only-of-type {\n",
       "        vertical-align: middle;\n",
       "    }\n",
       "\n",
       "    .dataframe tbody tr th {\n",
       "        vertical-align: top;\n",
       "    }\n",
       "\n",
       "    .dataframe thead th {\n",
       "        text-align: right;\n",
       "    }\n",
       "</style>\n",
       "<table border=\"1\" class=\"dataframe\">\n",
       "  <thead>\n",
       "    <tr style=\"text-align: right;\">\n",
       "      <th></th>\n",
       "      <th>進站人數</th>\n",
       "      <th>出站人數</th>\n",
       "    </tr>\n",
       "    <tr>\n",
       "      <th>車站名稱</th>\n",
       "      <th></th>\n",
       "      <th></th>\n",
       "    </tr>\n",
       "  </thead>\n",
       "  <tbody>\n",
       "    <tr>\n",
       "      <th>臺北</th>\n",
       "      <td>88421749</td>\n",
       "      <td>87261561</td>\n",
       "    </tr>\n",
       "    <tr>\n",
       "      <th>桃園</th>\n",
       "      <td>40453667</td>\n",
       "      <td>41594793</td>\n",
       "    </tr>\n",
       "    <tr>\n",
       "      <th>臺中</th>\n",
       "      <td>36872010</td>\n",
       "      <td>36827889</td>\n",
       "    </tr>\n",
       "    <tr>\n",
       "      <th>臺南</th>\n",
       "      <td>37454585</td>\n",
       "      <td>38168096</td>\n",
       "    </tr>\n",
       "    <tr>\n",
       "      <th>高雄</th>\n",
       "      <td>21784563</td>\n",
       "      <td>21879440</td>\n",
       "    </tr>\n",
       "  </tbody>\n",
       "</table>\n",
       "</div>"
      ],
      "text/plain": [
       "          進站人數      出站人數\n",
       "車站名稱                    \n",
       "臺北    88421749  87261561\n",
       "桃園    40453667  41594793\n",
       "臺中    36872010  36827889\n",
       "臺南    37454585  38168096\n",
       "高雄    21784563  21879440"
      ]
     },
     "execution_count": 8,
     "metadata": {},
     "output_type": "execute_result"
    }
   ],
   "source": [
    "Sum.loc[['臺北','桃園','臺中','臺南','高雄']]"
   ]
  }
 ],
 "metadata": {
  "kernelspec": {
   "display_name": "Python 3",
   "language": "python",
   "name": "python3"
  },
  "language_info": {
   "codemirror_mode": {
    "name": "ipython",
    "version": 3
   },
   "file_extension": ".py",
   "mimetype": "text/x-python",
   "name": "python",
   "nbconvert_exporter": "python",
   "pygments_lexer": "ipython3",
   "version": "3.10.15"
  }
 },
 "nbformat": 4,
 "nbformat_minor": 2
}
