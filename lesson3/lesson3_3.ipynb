{
 "cells": [
  {
   "cell_type": "code",
   "execution_count": 1,
   "metadata": {},
   "outputs": [
    {
     "name": "stdout",
     "output_type": "stream",
     "text": [
      "670.0台斤=402.0公斤\n"
     ]
    }
   ],
   "source": [
    "kg_taiwan=float(input('請輸入台斤:'))\n",
    "kg=kg_taiwan*0.6\n",
    "#print(str(kg_taiwan)+'台斤='+str(kg)+'公斤')\n",
    "print(f'{kg_taiwan}台斤={kg}公斤')#字串插補"
   ]
  },
  {
   "cell_type": "code",
   "execution_count": 2,
   "metadata": {},
   "outputs": [
    {
     "name": "stdout",
     "output_type": "stream",
     "text": [
      "tai您好\n",
      "您的BMI值是:22.94\n"
     ]
    }
   ],
   "source": [
    "name=input('請輸入姓名:')\n",
    "height=float(input('請輸入身高(cm):'))\n",
    "weight=float(input('請輸入體重(kg):'))\n",
    "BMI=round(weight/((height*0.01)**2),ndigits=2)\n",
    "\n",
    "print(str(name)+'您好')\n",
    "print('您的BMI值是:'+str(BMI))"
   ]
  }
 ],
 "metadata": {
  "kernelspec": {
   "display_name": "Python 3",
   "language": "python",
   "name": "python3"
  },
  "language_info": {
   "codemirror_mode": {
    "name": "ipython",
    "version": 3
   },
   "file_extension": ".py",
   "mimetype": "text/x-python",
   "name": "python",
   "nbconvert_exporter": "python",
   "pygments_lexer": "ipython3",
   "version": "3.11.9"
  }
 },
 "nbformat": 4,
 "nbformat_minor": 2
}
