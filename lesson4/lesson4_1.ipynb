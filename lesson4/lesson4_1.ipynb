{
 "cells": [
  {
   "cell_type": "code",
   "execution_count": 4,
   "metadata": {},
   "outputs": [
    {
     "name": "stdout",
     "output_type": "stream",
     "text": [
      "不可以考駕照\n"
     ]
    }
   ],
   "source": [
    "age = 8 #這他媽8歲?\n",
    "\n",
    "if age >=18:\n",
    "    print('可以考駕照')\n",
    "else:\n",
    "    print('不可以考駕照')"
   ]
  },
  {
   "cell_type": "code",
   "execution_count": 14,
   "metadata": {},
   "outputs": [
    {
     "name": "stdout",
     "output_type": "stream",
     "text": [
      "學生總分數為:152\n"
     ]
    }
   ],
   "source": [
    "#輸入學生分數，最高300分\n",
    "#是否加分(YorN)\n",
    "#Y，總分加5%\n",
    "\n",
    "score=int(input('請輸入學生分數(最高300分):'))\n",
    "is_add=input('學生是否符合加分條件(YorN)')\n",
    "\n",
    "if is_add == 'Y':\n",
    "    score *=1.05\n",
    "    import math\n",
    "    score =math.ceil(score)\n",
    "\n",
    "print(f'學生總分數為:{score}')"
   ]
  },
  {
   "cell_type": "code",
   "execution_count": 15,
   "metadata": {},
   "outputs": [
    {
     "name": "stdout",
     "output_type": "stream",
     "text": [
      "學生總分數為:300\n"
     ]
    }
   ],
   "source": [
    "#輸入學生分數，最高300分\n",
    "#是否加分(YorN)\n",
    "#Y，總分加5%\n",
    "\n",
    "score=int(input('請輸入學生分數(最高300分):'))\n",
    "is_add=input('學生是否符合加分條件(YorN)')\n",
    "\n",
    "if is_add == 'Y':\n",
    "    score *=1.05\n",
    "    import math\n",
    "    score =math.ceil(score)\n",
    "    if score > 300:\n",
    "        score = 300\n",
    "\n",
    "print(f'學生總分數為:{score}')"
   ]
  },
  {
   "cell_type": "code",
   "execution_count": 19,
   "metadata": {},
   "outputs": [
    {
     "name": "stdout",
     "output_type": "stream",
     "text": [
      "學生總分數為:199\n",
      "應用程式結束\n"
     ]
    }
   ],
   "source": [
    "#輸入學生分數，最高300分\n",
    "#是否加分(YorN)\n",
    "#Y，總分加5%\n",
    "try:\n",
    "    score=int(input('請輸入學生分數(最高300分):'))\n",
    "except ValueError:\n",
    "    print('格式錯誤')\n",
    "else:\n",
    "    is_add=input('學生是否符合加分條件(YorN)')\n",
    "    if is_add == 'Y':\n",
    "        score *=1.05\n",
    "        import math\n",
    "        score =math.ceil(score)\n",
    "        if score > 300:\n",
    "            score = 300\n",
    "    print(f'學生總分數為:{score}')\n",
    "print('應用程式結束')\n"
   ]
  },
  {
   "cell_type": "code",
   "execution_count": 20,
   "metadata": {},
   "outputs": [
    {
     "name": "stdout",
     "output_type": "stream",
     "text": [
      "不知名的錯誤\n",
      "應用程式結束\n"
     ]
    }
   ],
   "source": [
    "#輸入學生分數，最高300分\n",
    "#是否加分(YorN)\n",
    "#Y，總分加5%\n",
    "\n",
    "#------手動加錯\n",
    "try:\n",
    "    score=int(input('請輸入學生分數(最高300分):'))\n",
    "    raise NameError\n",
    "except ValueError:\n",
    "    print('格式錯誤')\n",
    "except Exception:\n",
    "    print('不知名的錯誤')\n",
    "else:\n",
    "    is_add=input('學生是否符合加分條件(YorN)')\n",
    "    if is_add == 'Y':\n",
    "        score *=1.05\n",
    "        import math\n",
    "        score =math.ceil(score)\n",
    "        if score > 300:\n",
    "            score = 300\n",
    "    print(f'學生總分數為:{score}')\n",
    "print('應用程式結束')\n"
   ]
  }
 ],
 "metadata": {
  "kernelspec": {
   "display_name": "Python 3",
   "language": "python",
   "name": "python3"
  },
  "language_info": {
   "codemirror_mode": {
    "name": "ipython",
    "version": 3
   },
   "file_extension": ".py",
   "mimetype": "text/x-python",
   "name": "python",
   "nbconvert_exporter": "python",
   "pygments_lexer": "ipython3",
   "version": "3.11.9"
  }
 },
 "nbformat": 4,
 "nbformat_minor": 2
}
