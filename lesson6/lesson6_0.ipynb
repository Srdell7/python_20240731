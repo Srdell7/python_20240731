{
 "cells": [
  {
   "cell_type": "code",
   "execution_count": 5,
   "metadata": {},
   "outputs": [
    {
     "name": "stdout",
     "output_type": "stream",
     "text": [
      "N1: 30, N2: 15\n",
      "兩數公因數為:\n",
      "1 3 5 15 "
     ]
    }
   ],
   "source": [
    "value1 = int(input(\"請輸入第1個數值:\"))\n",
    "value2 = int(input(\"請輸入第2個數值:\"))\n",
    "\n",
    "(N1, N2) = (value1, value2) if value1 > value2 else (value2, value1)\n",
    "print(f\"N1: {N1}, N2: {N2}\")\n",
    "\n",
    "print(\"兩數公因數為:\")\n",
    "for n in range(1, min + 1):\n",
    "    if N1 % n == 0 and N2 % n == 0:\n",
    "        print(n,end=' ')"
   ]
  }
 ],
 "metadata": {
  "kernelspec": {
   "display_name": "Python 3",
   "language": "python",
   "name": "python3"
  },
  "language_info": {
   "codemirror_mode": {
    "name": "ipython",
    "version": 3
   },
   "file_extension": ".py",
   "mimetype": "text/x-python",
   "name": "python",
   "nbconvert_exporter": "python",
   "pygments_lexer": "ipython3",
   "version": "3.11.9"
  }
 },
 "nbformat": 4,
 "nbformat_minor": 2
}
