{
 "cells": [
  {
   "cell_type": "code",
   "execution_count": 1,
   "metadata": {},
   "outputs": [
    {
     "name": "stdout",
     "output_type": "stream",
     "text": [
      "total=55\n",
      "程式結束\n"
     ]
    }
   ],
   "source": [
    "#while迴圈\n",
    "total = 0\n",
    "i = 1\n",
    "while i <= 10:\n",
    "    total += i\n",
    "    i += 1\n",
    "print(f\"total={total}\\n程式結束\")"
   ]
  },
  {
   "cell_type": "code",
   "execution_count": 1,
   "metadata": {},
   "outputs": [
    {
     "name": "stdout",
     "output_type": "stream",
     "text": [
      "您已存了3個月,共存30000元\n"
     ]
    }
   ],
   "source": [
    "#小明想要存錢買一輛機車,機車每輛30000元，他將每月存的錢輸入，當存款足夠買機車時，就顯示提示訊息告知。\n",
    "deposit = 0\n",
    "month = 0\n",
    "while deposit < 30000:\n",
    "    month += 1\n",
    "    money = int(input(f'第{month}本月份存款:'))\n",
    "    deposit += money\n",
    "print(f'您已存了{month}個月,共存{deposit}元')"
   ]
  },
  {
   "cell_type": "code",
   "execution_count": 10,
   "metadata": {},
   "outputs": [
    {
     "name": "stdout",
     "output_type": "stream",
     "text": [
      "Taiwan\n",
      "字首轉換完成!\n"
     ]
    }
   ],
   "source": [
    "#請輸入小寫的英文字串,將英文字第1個字變大寫\n",
    "#請輸入小寫英文字[按0會離開]:\n",
    "english = input('請輸入小寫英文[按0離開]') #print(type(english))\n",
    "while not english == '0':\n",
    "    print(english.capitalize())\n",
    "    english = input('請輸入小寫英文[按0離開]')\n",
    "print('字首轉換完成!')"
   ]
  },
  {
   "cell_type": "code",
   "execution_count": 12,
   "metadata": {},
   "outputs": [
    {
     "name": "stdout",
     "output_type": "stream",
     "text": [
      "Taiwan\n",
      "0\n",
      "0\n",
      "應用程式結束!\n"
     ]
    }
   ],
   "source": [
    "#break跳出迴圈\n",
    "#continue繼續迴圈\n",
    "while True:\n",
    "    english = input('請輸入小寫英文[按0離開]:')\n",
    "    if stuff == '0':\n",
    "        break\n",
    "    else:\n",
    "        print(stuff.capitalize())\n",
    "        continue\n",
    "\n",
    "    print(\"沒用的程式\")\n",
    "    \n",
    "    \n",
    "print('字首轉換完成!')"
   ]
  },
  {
   "cell_type": "code",
   "execution_count": 11,
   "metadata": {},
   "outputs": [
    {
     "name": "stdout",
     "output_type": "stream",
     "text": [
      "Taiwan\n",
      "字首轉換完成!\n"
     ]
    }
   ],
   "source": [
    "#上一區塊精簡寫法\n",
    "while True:\n",
    "    english = input('請輸入小寫英文[按0離開]:')\n",
    "    if english == '0':\n",
    "        break\n",
    "    print(english.capitalize())\n",
    "    \n",
    "print('字首轉換完成!')"
   ]
  },
  {
   "cell_type": "code",
   "execution_count": null,
   "metadata": {},
   "outputs": [],
   "source": []
  }
 ],
 "metadata": {
  "kernelspec": {
   "display_name": "Python 3",
   "language": "python",
   "name": "python3"
  },
  "language_info": {
   "codemirror_mode": {
    "name": "ipython",
    "version": 3
   },
   "file_extension": ".py",
   "mimetype": "text/x-python",
   "name": "python",
   "nbconvert_exporter": "python",
   "pygments_lexer": "ipython3",
   "version": "3.11.9"
  }
 },
 "nbformat": 4,
 "nbformat_minor": 2
}
