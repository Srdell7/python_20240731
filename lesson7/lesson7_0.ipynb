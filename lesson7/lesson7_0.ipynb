{
 "cells": [
  {
   "cell_type": "code",
   "execution_count": null,
   "metadata": {},
   "outputs": [],
   "source": [
    "while True:\n",
    "    name=str(input('請輸入姓名:'))\n",
    "    try:\n",
    "        height=float(input('請輸入身高(cm):'))\n",
    "        weight=float(input('請輸入體重(kg):'))\n",
    "    except ValueError:\n",
    "        print('格式錯誤')\n",
    "    else:\n",
    "        BMI=round(weight/((height*0.01)**2),ndigits=2)\n",
    "\n",
    "        print(f'{name}您好')\n",
    "        print(f'您的BMI值是:{BMI}')\n",
    "\n",
    "        if BMI>=35:\n",
    "            grade='重度肥胖'\n",
    "        elif BMI>=30:\n",
    "            grade='中度肥胖'\n",
    "        elif BMI>=27:\n",
    "            grade='輕度肥胖'\n",
    "        elif BMI>=24:\n",
    "            grade='過重'\n",
    "        elif BMI>=18:\n",
    "            grade='正常'\n",
    "        else:\n",
    "            grade='過輕'\n",
    "        print(f'體重:{grade}')\n",
    "    \n",
    "    leave = input(\"是否要繼續計算?['q':離開,enter:繼續]:\")\n",
    "    if leave == 'q':\n",
    "        break\n",
    "print('應用程式結束!')"
   ]
  }
 ],
 "metadata": {
  "kernelspec": {
   "display_name": "Python 3",
   "language": "python",
   "name": "python3"
  },
  "language_info": {
   "name": "python",
   "version": "3.11.9"
  }
 },
 "nbformat": 4,
 "nbformat_minor": 2
}
