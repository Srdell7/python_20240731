{
 "cells": [
  {
   "cell_type": "code",
   "execution_count": 1,
   "metadata": {},
   "outputs": [],
   "source": [
    "def menu(wine:str,entree:str,dessert:str):\n",
    "    print(f\"餐前酒:{wine}\")\n",
    "    print(f\"主餐:{entree}\")\n",
    "    print(f\"甜點:{dessert}\")"
   ]
  },
  {
   "cell_type": "code",
   "execution_count": 2,
   "metadata": {},
   "outputs": [
    {
     "name": "stdout",
     "output_type": "stream",
     "text": [
      "餐前酒:紅酒\n",
      "主餐:牛排\n",
      "甜點:冰淇淋\n"
     ]
    }
   ],
   "source": [
    "#引數值的呼叫\n",
    "menu('紅酒','牛排','冰淇淋')\n"
   ]
  },
  {
   "cell_type": "code",
   "execution_count": 3,
   "metadata": {},
   "outputs": [
    {
     "name": "stdout",
     "output_type": "stream",
     "text": [
      "餐前酒:紅酒\n",
      "主餐:牛排\n",
      "甜點:冰淇淋\n"
     ]
    }
   ],
   "source": [
    "#引數名稱的呼叫\n",
    "menu(dessert='冰淇淋',wine='紅酒',entree='牛排')"
   ]
  },
  {
   "cell_type": "code",
   "execution_count": 4,
   "metadata": {},
   "outputs": [
    {
     "name": "stdout",
     "output_type": "stream",
     "text": [
      "餐前酒:白酒\n",
      "主餐:牛排\n",
      "甜點:蛋糕\n"
     ]
    }
   ],
   "source": [
    "#混合呼叫,前面一定要用引數值,後面使用引數名稱的呼叫,使用引數名稱呼叫後,後面全部要使用引數名稱呼叫\n",
    "\n",
    "menu('白酒',dessert='蛋糕',entree='牛排')"
   ]
  }
 ],
 "metadata": {
  "kernelspec": {
   "display_name": "Python 3",
   "language": "python",
   "name": "python3"
  },
  "language_info": {
   "codemirror_mode": {
    "name": "ipython",
    "version": 3
   },
   "file_extension": ".py",
   "mimetype": "text/x-python",
   "name": "python",
   "nbconvert_exporter": "python",
   "pygments_lexer": "ipython3",
   "version": "3.11.9"
  }
 },
 "nbformat": 4,
 "nbformat_minor": 2
}
