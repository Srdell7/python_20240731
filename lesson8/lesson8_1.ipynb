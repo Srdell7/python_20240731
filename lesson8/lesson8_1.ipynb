{
 "cells": [
  {
   "cell_type": "code",
   "execution_count": 1,
   "metadata": {},
   "outputs": [
    {
     "data": {
      "text/plain": [
       "'\\nxxxxxxxxxxxxxx\\nxxxxxxxxxxxx\\nxxxxxxx\\n'"
      ]
     },
     "metadata": {},
     "output_type": "display_data"
    },
    {
     "name": "stdout",
     "output_type": "stream",
     "text": [
      "\n",
      "xxxxxxxxxxxxxx\n",
      "xxxxxxxxxxxx\n",
      "xxxxxxx\n",
      "\n"
     ]
    }
   ],
   "source": [
    "#多行字串\n",
    "multi_lines = '''\n",
    "xxxxxxxxxxxxxx\n",
    "xxxxxxxxxxxx\n",
    "xxxxxxx\n",
    "'''\n",
    "display(multi_lines)\n",
    "print(multi_lines)"
   ]
  },
  {
   "cell_type": "code",
   "execution_count": 3,
   "metadata": {},
   "outputs": [
    {
     "name": "stdout",
     "output_type": "stream",
     "text": [
      "123您好\n",
      "您的BMI值是:37.94\n",
      "體重:重度肥胖\n",
      "\n",
      "\n",
      "應用程式結束\n"
     ]
    }
   ],
   "source": [
    "def get_status_message(bmi)->str:\n",
    "    '''\n",
    "    #param bmi:這是要傳入bmi傳\n",
    "    #return:傳出bmi的狀態\n",
    "    '''\n",
    "\n",
    "    if bmi<18.5:\n",
    "        grade=\"體重過輕\"\n",
    "    elif bmi<24:\n",
    "        grade=\"正常範圍\"\n",
    "    elif bmi<27:\n",
    "        grade=\"過重\"\n",
    "    elif bmi<30:\n",
    "        grade=\"輕度肥胖\"\n",
    "    elif bmi<35:\n",
    "        grade=\"中度肥胖\"\n",
    "    elif bmi>=35:\n",
    "        grade=\"重度肥胖\"\n",
    "\n",
    "while True:\n",
    "    try:\n",
    "        name=str(input(\"請輸入姓名\"))\n",
    "        height=float(input('請輸入身高'))\n",
    "        weight=float(input('請輸入體重'))\n",
    "        bmi=round(weight/((height*0.01)**2),ndigits=2)\n",
    "    except ValueError:\n",
    "        print(\"格式錯誤\")\n",
    "        continue\n",
    "    get_status_message(bmi)\n",
    "    print(f'{name}您好\\n您的BMI值是:{bmi}\\n體重:{grade}')\n",
    "    stuff = input(\"請問是否繼續輸入資料 ('q':離開,任意鍵:繼續)?\")\n",
    "    if stuff == 'q':\n",
    "        break\n",
    "print(\"應用程式結束\")"
   ]
  }
 ],
 "metadata": {
  "kernelspec": {
   "display_name": "Python 3",
   "language": "python",
   "name": "python3"
  },
  "language_info": {
   "codemirror_mode": {
    "name": "ipython",
    "version": 3
   },
   "file_extension": ".py",
   "mimetype": "text/x-python",
   "name": "python",
   "nbconvert_exporter": "python",
   "pygments_lexer": "ipython3",
   "version": "3.11.9"
  }
 },
 "nbformat": 4,
 "nbformat_minor": 2
}
