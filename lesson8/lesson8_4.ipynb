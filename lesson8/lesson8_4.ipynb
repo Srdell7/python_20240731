{
 "cells": [
  {
   "cell_type": "code",
   "execution_count": 1,
   "metadata": {},
   "outputs": [
    {
     "data": {
      "text/plain": [
       "__main__.person"
      ]
     },
     "execution_count": 1,
     "metadata": {},
     "output_type": "execute_result"
    }
   ],
   "source": [
    "#建制一個class\n",
    "\n",
    "class person():\n",
    "    pass\n",
    "p1 = person()#預設的初始化\n",
    "type(p1)"
   ]
  },
  {
   "cell_type": "code",
   "execution_count": 3,
   "metadata": {},
   "outputs": [
    {
     "name": "stdout",
     "output_type": "stream",
     "text": [
      "srdell\n",
      "zoe\n"
     ]
    }
   ],
   "source": [
    "class Person():\n",
    "    def __init__(self,name:str):\n",
    "        self.name = name\n",
    "\n",
    "p1 = Person(name='srdell') #自訂的initial\n",
    "print(p1.name)\n",
    "p2 = Person('zoe')\n",
    "print(p2.name)"
   ]
  },
  {
   "cell_type": "code",
   "execution_count": 4,
   "metadata": {},
   "outputs": [
    {
     "name": "stdout",
     "output_type": "stream",
     "text": [
      "我的名字叫:srdell\n",
      "我的名字叫:zoe\n"
     ]
    }
   ],
   "source": [
    "class Person():\n",
    "    def __init__(self,name:str):\n",
    "        self.name = name\n",
    "\n",
    "    def description(self)->str: #實體方法\n",
    "        return f'我的名字叫:{self.name}'\n",
    "\n",
    "p1 = Person(name='srdell') #自訂的initial\n",
    "print(p1.description())\n",
    "p2 = Person('zoe')\n",
    "print(p2.description())"
   ]
  },
  {
   "cell_type": "code",
   "execution_count": 9,
   "metadata": {},
   "outputs": [
    {
     "name": "stdout",
     "output_type": "stream",
     "text": [
      "我的名字叫:srdell\n",
      "國文分數:99\n",
      "英文分數:88\n",
      "我的總分:187\n",
      "我的平均:93.5\n",
      "\n",
      "\n",
      "我的名字叫:zoe\n",
      "國文分數:93\n",
      "英文分數:97\n",
      "我的總分:190\n",
      "我的平均:95.0\n"
     ]
    }
   ],
   "source": [
    "class Person():\n",
    "    def __init__(self,name:str,c:int,e:int):\n",
    "        self.name = name\n",
    "        self.chinese = c\n",
    "        self.english = e\n",
    "    \n",
    "    def sum(self)->int:\n",
    "        return self.chinese + self.english\n",
    "    \n",
    "    def average(self)->float:\n",
    "        return self.sum() / 2.0\n",
    "\n",
    "    def description(self)->str: #實體方法\n",
    "        return f'我的名字叫:{self.name}\\n國文分數:{self.chinese}\\n英文分數:{self.english}'\n",
    "\n",
    "p1 = Person(name='srdell',e=88,c=99) #自訂的init\n",
    "print(p1.description())\n",
    "print(f'我的總分:{p1.sum()}')\n",
    "print(f'我的平均:{p1.average()}')\n",
    "print('\\n')\n",
    "p2 = Person('zoe',93,97)\n",
    "print(p2.description())\n",
    "print(f'我的總分:{p2.sum()}')\n",
    "print(f'我的平均:{p2.average()}')"
   ]
  }
 ],
 "metadata": {
  "kernelspec": {
   "display_name": "Python 3",
   "language": "python",
   "name": "python3"
  },
  "language_info": {
   "codemirror_mode": {
    "name": "ipython",
    "version": 3
   },
   "file_extension": ".py",
   "mimetype": "text/x-python",
   "name": "python",
   "nbconvert_exporter": "python",
   "pygments_lexer": "ipython3",
   "version": "3.11.9"
  }
 },
 "nbformat": 4,
 "nbformat_minor": 2
}
