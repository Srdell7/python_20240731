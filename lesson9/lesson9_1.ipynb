{
 "cells": [
  {
   "cell_type": "code",
   "execution_count": null,
   "metadata": {},
   "outputs": [],
   "source": [
    "from widget.tools import MyClass\n",
    "\n",
    "while True:\n",
    "    try:\n",
    "        name = str(input(\"請輸入姓名:\"))\n",
    "        height = float(input('請輸入身高(cm):'))\n",
    "        weight = float(input('請輸入體重(kg):'))\n",
    "        bmi = round(weight/((height*0.01)**2),ndigits=2)\n",
    "    except ValueError:\n",
    "        print(\"格式錯誤\")\n",
    "        continue\n",
    "    grade = MyClass.get_status_message(bmi)\n",
    "    print(f'親愛的{name}您好\\n您的BMI值是:{bmi}\\n體重:{grade}')\n",
    "    leave = input(\"請問是否繼續輸入資料 ('q':離開,任意鍵:繼續)?\")\n",
    "    if leave == 'q':\n",
    "        break\n",
    "print(\"應用程式結束\")"
   ]
  }
 ],
 "metadata": {
  "language_info": {
   "name": "python"
  }
 },
 "nbformat": 4,
 "nbformat_minor": 2
}
