{
 "cells": [
  {
   "cell_type": "code",
   "execution_count": 8,
   "metadata": {},
   "outputs": [
    {
     "name": "stdout",
     "output_type": "stream",
     "text": [
      "不知名的錯誤\n"
     ]
    }
   ],
   "source": [
    "import requests #\n",
    "from requests.exceptions import HTTPError,ConnectionError,Timeout\n",
    "#下載\n",
    "try:\n",
    "    url = 'https://raw.githubusercontent.com/roberthsu2003/python/master/%E6%AA%94%E6%A1%88%E5%AD%98%E5%8F%96/%E5%80%8B%E8%82%A1%E6%97%A5%E6%88%90%E4%BA%A4%E8%B3%87%E8%A8%8A.csv'\n",
    "    response = requests.get(url)\n",
    "    content = response.text\n",
    "except HTTPError:\n",
    "    print(\"伺服器連線錯誤\")\n",
    "except ConnectionError:\n",
    "    print(\"連線時發生錯誤\")\n",
    "except Timeout:\n",
    "    print(\"伺服器忙碌中,請稍後再試\")\n",
    "except Exception:\n",
    "    print(\"未知的錯誤\")"
   ]
  },
  {
   "cell_type": "code",
   "execution_count": 6,
   "metadata": {},
   "outputs": [],
   "source": [
    "#存檔\n",
    "file = open('abc.csv',encoding='utf-8',mode='w',newline='')\n",
    "file.write(content)\n",
    "file.close()"
   ]
  },
  {
   "cell_type": "code",
   "execution_count": 9,
   "metadata": {},
   "outputs": [],
   "source": [
    "import requests \n",
    "from requests.exceptions import HTTPError,ConnectionError,Timeout\n",
    "\n",
    "try:\n",
    "    url = 'https://raw.githubusercontent.com/roberthsu2003/python/master/%E6%AA%94%E6%A1%88%E5%AD%98%E5%8F%96/%E5%80%8B%E8%82%A1%E6%97%A5%E6%88%90%E4%BA%A4%E8%B3%87%E8%A8%8A.csv'\n",
    "    response = requests.get(url)\n",
    "    content = response.text\n",
    "except HTTPError:\n",
    "    print(\"伺服器連線錯誤\")\n",
    "except ConnectionError:\n",
    "    print(\"連線時發生錯誤\")\n",
    "except Timeout:\n",
    "    print(\"伺服器忙碌中,請稍後再試\")\n",
    "except Exception:\n",
    "    print(\"未知的錯誤\")\n",
    "else:\n",
    "    file = open('abc.csv',encoding='utf-8',mode='w',newline='')\n",
    "    file.write(content)\n",
    "    file.close()"
   ]
  }
 ],
 "metadata": {
  "kernelspec": {
   "display_name": "Python 3",
   "language": "python",
   "name": "python3"
  },
  "language_info": {
   "codemirror_mode": {
    "name": "ipython",
    "version": 3
   },
   "file_extension": ".py",
   "mimetype": "text/x-python",
   "name": "python",
   "nbconvert_exporter": "python",
   "pygments_lexer": "ipython3",
   "version": "3.11.9"
  }
 },
 "nbformat": 4,
 "nbformat_minor": 2
}
