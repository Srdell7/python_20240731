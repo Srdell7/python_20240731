{
 "cells": [
  {
   "cell_type": "code",
   "execution_count": 2,
   "metadata": {},
   "outputs": [],
   "source": [
    "import requests \n",
    "from requests.exceptions import HTTPError,ConnectionError,Timeout\n",
    "\n",
    "try:\n",
    "    url = 'https://opendata.cwa.gov.tw/fileapi/v1/opendataapi/O-A0091-001?Authorization=rdec-key-123-45678-011121314&format=JSON'\n",
    "    response = requests.get(url)\n",
    "    content = response.text\n",
    "except HTTPError:\n",
    "    print(\"伺服器連線錯誤\")\n",
    "except ConnectionError:\n",
    "    print(\"連線時發生錯誤\")\n",
    "except Timeout:\n",
    "    print(\"伺服器忙碌中,請稍後再試\")\n",
    "except Exception:\n",
    "    print(\"未知的錯誤\")\n",
    "else:\n",
    "    file = open('台灣日射量.json',encoding='utf-8',mode='w',newline='')\n",
    "    file.write(content)\n",
    "    file.close()"
   ]
  }
 ],
 "metadata": {
  "kernelspec": {
   "display_name": "Python 3",
   "language": "python",
   "name": "python3"
  },
  "language_info": {
   "codemirror_mode": {
    "name": "ipython",
    "version": 3
   },
   "file_extension": ".py",
   "mimetype": "text/x-python",
   "name": "python",
   "nbconvert_exporter": "python",
   "pygments_lexer": "ipython3",
   "version": "3.11.9"
  }
 },
 "nbformat": 4,
 "nbformat_minor": 2
}
